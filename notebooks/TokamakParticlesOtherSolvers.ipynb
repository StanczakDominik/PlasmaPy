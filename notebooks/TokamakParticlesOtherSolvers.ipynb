{
 "cells": [
  {
   "cell_type": "markdown",
   "metadata": {},
   "source": [
    "# Particle movement in a simple model of a tokamak"
   ]
  },
  {
   "cell_type": "code",
   "execution_count": 7,
   "metadata": {},
   "outputs": [
    {
     "data": {
      "text/plain": [
       "ParticleTracker(plasma=Coils(9 x CircularWire(4000.0 A)), particle_type=p+, N = 1)"
      ]
     },
     "execution_count": 7,
     "metadata": {},
     "output_type": "execute_result"
    }
   ],
   "source": [
    "from plasmapy import simulation\n",
    "from plasmapy.classes.sources import Coils\n",
    "import astropy.units as u\n",
    "import numpy as np\n",
    "radius = 0.5 * u.m\n",
    "minor_radius = 0.3 * u.m\n",
    "main_current = 4 * u.kA\n",
    "n_coils = 8\n",
    "currents = n_coils * [4 * u.kA]\n",
    "coils = Coils.toykamak(minor_radius, radius, main_current, currents)\n",
    "\n",
    "x = u.Quantity([[0.6, 0, 0]],  u.m)\n",
    "v = u.Quantity([[0, 300, 0]], u.m / u.s)\n",
    "\n",
    "initial_condition = simulation.ParticleTracker(coils, x, v, 'p',)\n",
    "initial_condition"
   ]
  },
  {
   "cell_type": "markdown",
   "metadata": {},
   "source": [
    "We intend to keep a list of available solvers in `ParticleTracker.integrators` and, for the brave, in `ParticleTracker._wip_integrators`. They have varying levels of usefulness and especially stability right now:"
   ]
  },
  {
   "cell_type": "code",
   "execution_count": null,
   "metadata": {},
   "outputs": [
    {
     "name": "stdout",
     "output_type": "stream",
     "text": [
      "explicit_boris\n"
     ]
    },
    {
     "data": {
      "application/vnd.jupyter.widget-view+json": {
       "model_id": "50f69978e0674c7f96af305d975ffbaf",
       "version_major": 2,
       "version_minor": 0
      },
      "text/plain": [
       "HBox(children=(FloatProgress(value=0.0, max=1000.0), HTML(value='')))"
      ]
     },
     "metadata": {},
     "output_type": "display_data"
    },
    {
     "name": "stdout",
     "output_type": "stream",
     "text": [
      "\n",
      "implicit_boris\n"
     ]
    },
    {
     "data": {
      "application/vnd.jupyter.widget-view+json": {
       "model_id": "6cbfbc150ec544a490970ad9dce8c102",
       "version_major": 2,
       "version_minor": 0
      },
      "text/plain": [
       "HBox(children=(FloatProgress(value=0.0, max=1000.0), HTML(value='')))"
      ]
     },
     "metadata": {},
     "output_type": "display_data"
    }
   ],
   "source": [
    "solutions = {}\n",
    "for name, integrator in simulation.ParticleTracker._all_integrators.items(): # _all_integrators has both kinds\n",
    "    print(name)\n",
    "    solutions[name] = solution = initial_condition.run(1e-1 * u.s, 1e-6 * u.s, pusher=name)"
   ]
  },
  {
   "cell_type": "code",
   "execution_count": null,
   "metadata": {},
   "outputs": [],
   "source": [
    "fig = pv.Plotter()\n",
    "coils.visualize(fig)\n",
    "for name, solution in simulation.ParticleTracker.integrators.items():\n",
    "    solution.particletracker.visualize(fig,\n",
    "                                       name=name\n",
    "                                      )\n",
    "fig.add_legend()\n",
    "fig.show()"
   ]
  }
 ],
 "metadata": {
  "kernelspec": {
   "display_name": "Python 3",
   "language": "python",
   "name": "python3"
  },
  "language_info": {
   "codemirror_mode": {
    "name": "ipython",
    "version": 3
   },
   "file_extension": ".py",
   "mimetype": "text/x-python",
   "name": "python",
   "nbconvert_exporter": "python",
   "pygments_lexer": "ipython3",
   "version": "3.8.1"
  },
  "widgets": {
   "application/vnd.jupyter.widget-state+json": {
    "state": {
     "0002b69e9c32493686c6154ff5bc6429": {
      "model_module": "@jupyter-widgets/controls",
      "model_module_version": "1.5.0",
      "model_name": "FloatProgressModel",
      "state": {
       "description": " 92%",
       "layout": "IPY_MODEL_b48b2585735c41259cc943262417adcd",
       "max": 1000,
       "style": "IPY_MODEL_fb416c36e10f42d5931b4bf33134eec7",
       "value": 917
      }
     },
     "098a33be4eb840cb8a85ac1da5261b8b": {
      "model_module": "@jupyter-widgets/base",
      "model_module_version": "1.2.0",
      "model_name": "LayoutModel",
      "state": {}
     },
     "279c7173fe3d4a54be23199d54c33626": {
      "model_module": "@jupyter-widgets/controls",
      "model_module_version": "1.5.0",
      "model_name": "HTMLModel",
      "state": {
       "layout": "IPY_MODEL_cec2fa1d90c8435f98a98a8970a03633",
       "style": "IPY_MODEL_bc55a038f578488e9e9a5c5de500985d",
       "value": " [08:42&lt;00:31,  2.64it/s, i=91700, dt=1e-6, Relative kinetic energy change=-5.61e-14]"
      }
     },
     "50f69978e0674c7f96af305d975ffbaf": {
      "model_module": "@jupyter-widgets/controls",
      "model_module_version": "1.5.0",
      "model_name": "HBoxModel",
      "state": {
       "children": [
        "IPY_MODEL_8b5464d3177f4225b9633ae53fbc8d45",
        "IPY_MODEL_91180101d965454fbed9189bb975760f"
       ],
       "layout": "IPY_MODEL_098a33be4eb840cb8a85ac1da5261b8b"
      }
     },
     "518fc94706694a4696380eaec53eceae": {
      "model_module": "@jupyter-widgets/base",
      "model_module_version": "1.2.0",
      "model_name": "LayoutModel",
      "state": {}
     },
     "5f373b175c4547d38bae46b2304faaba": {
      "model_module": "@jupyter-widgets/controls",
      "model_module_version": "1.5.0",
      "model_name": "ProgressStyleModel",
      "state": {
       "description_width": "initial"
      }
     },
     "6cbfbc150ec544a490970ad9dce8c102": {
      "model_module": "@jupyter-widgets/controls",
      "model_module_version": "1.5.0",
      "model_name": "HBoxModel",
      "state": {
       "children": [
        "IPY_MODEL_0002b69e9c32493686c6154ff5bc6429",
        "IPY_MODEL_279c7173fe3d4a54be23199d54c33626"
       ],
       "layout": "IPY_MODEL_518fc94706694a4696380eaec53eceae"
      }
     },
     "6eb6800bb9fb4179bc6d56047b8fd257": {
      "model_module": "@jupyter-widgets/controls",
      "model_module_version": "1.5.0",
      "model_name": "DescriptionStyleModel",
      "state": {
       "description_width": ""
      }
     },
     "870f1e90e33b4622b9806c41c8a80625": {
      "model_module": "@jupyter-widgets/base",
      "model_module_version": "1.2.0",
      "model_name": "LayoutModel",
      "state": {}
     },
     "8b5464d3177f4225b9633ae53fbc8d45": {
      "model_module": "@jupyter-widgets/controls",
      "model_module_version": "1.5.0",
      "model_name": "FloatProgressModel",
      "state": {
       "bar_style": "success",
       "description": "100%",
       "layout": "IPY_MODEL_870f1e90e33b4622b9806c41c8a80625",
       "max": 1000,
       "style": "IPY_MODEL_5f373b175c4547d38bae46b2304faaba",
       "value": 1000
      }
     },
     "91180101d965454fbed9189bb975760f": {
      "model_module": "@jupyter-widgets/controls",
      "model_module_version": "1.5.0",
      "model_name": "HTMLModel",
      "state": {
       "layout": "IPY_MODEL_980e767b608442339612b606c31bbc56",
       "style": "IPY_MODEL_6eb6800bb9fb4179bc6d56047b8fd257",
       "value": " [08:11&lt;00:00,  2.03it/s, i=1e+5, dt=1e-6, Relative kinetic energy change=4.17e-14]"
      }
     },
     "980e767b608442339612b606c31bbc56": {
      "model_module": "@jupyter-widgets/base",
      "model_module_version": "1.2.0",
      "model_name": "LayoutModel",
      "state": {}
     },
     "b48b2585735c41259cc943262417adcd": {
      "model_module": "@jupyter-widgets/base",
      "model_module_version": "1.2.0",
      "model_name": "LayoutModel",
      "state": {}
     },
     "bc55a038f578488e9e9a5c5de500985d": {
      "model_module": "@jupyter-widgets/controls",
      "model_module_version": "1.5.0",
      "model_name": "DescriptionStyleModel",
      "state": {
       "description_width": ""
      }
     },
     "cec2fa1d90c8435f98a98a8970a03633": {
      "model_module": "@jupyter-widgets/base",
      "model_module_version": "1.2.0",
      "model_name": "LayoutModel",
      "state": {}
     },
     "fb416c36e10f42d5931b4bf33134eec7": {
      "model_module": "@jupyter-widgets/controls",
      "model_module_version": "1.5.0",
      "model_name": "ProgressStyleModel",
      "state": {
       "description_width": "initial"
      }
     }
    },
    "version_major": 2,
    "version_minor": 0
   }
  }
 },
 "nbformat": 4,
 "nbformat_minor": 4
}
