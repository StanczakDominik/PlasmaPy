{
 "cells": [
  {
   "cell_type": "code",
   "execution_count": 7,
   "metadata": {},
   "outputs": [
    {
     "name": "stderr",
     "output_type": "stream",
     "text": [
      "/home/dominik/Code/github/PlasmaPy/PlasmaPy/plasmapy/simulation/particletracker.py:64: AccessorRegistrationWarning: registration of accessor <class 'plasmapy.simulation.particletracker.ParticleTrackerAccessor'> under name 'particletracker' for type <class 'xarray.core.dataset.Dataset'> is overriding a preexisting attribute with the same name.\n",
      "  @xarray.register_dataset_accessor(\"particletracker\")\n"
     ]
    }
   ],
   "source": [
    "%autoreload 2\n",
    "from plasmapy import simulation\n",
    "import astropy.units as u\n",
    "import numpy as np"
   ]
  },
  {
   "cell_type": "code",
   "execution_count": 8,
   "metadata": {},
   "outputs": [],
   "source": [
    "import xarray"
   ]
  },
  {
   "cell_type": "code",
   "execution_count": 9,
   "metadata": {},
   "outputs": [],
   "source": [
    "from plasmapy.classes.sources.interparticle import InterParticleForces"
   ]
  },
  {
   "cell_type": "code",
   "execution_count": 10,
   "metadata": {},
   "outputs": [],
   "source": [
    "eq_distance = 0.1\n",
    "forces = {key: InterParticleForces(key, 100, eq_distance, 1, 100000, 4) for key in ('python', 'njit', 'njit_parallel')}\n",
    "\n",
    "from collections import namedtuple\n",
    "CustomParticle = namedtuple('custom_particle', ['mass', 'charge'])\n",
    "particle = CustomParticle(mass=1 * u.dimensionless_unscaled, charge=1 * u.dimensionless_unscaled)\n",
    "\n",
    "L = 1 * u.m\n",
    "N = 128\n",
    "np.random.seed(0)\n",
    "x = u.Quantity(np.random.random((N, 3))*L,  u.m)\n",
    "v = u.Quantity(np.zeros(x.shape, dtype=float), u.m / u.s)\n",
    "\n",
    "from scipy import spatial\n",
    "tree = spatial.cKDTree(x)\n",
    "close_pairs = tree.query_pairs(eq_distance)\n",
    "while close_pairs:\n",
    "    for a, b in close_pairs:\n",
    "        x[b] = np.random.random(3) * L\n",
    "    tree = spatial.cKDTree(x)\n",
    "    close_pairs = tree.query_pairs(eq_distance)"
   ]
  },
  {
   "cell_type": "code",
   "execution_count": null,
   "metadata": {},
   "outputs": [
    {
     "data": {
      "application/vnd.jupyter.widget-view+json": {
       "model_id": "7d8a1c13d6354a5a949e20979293bea3",
       "version_major": 2,
       "version_minor": 0
      },
      "text/plain": [
       "HBox(children=(FloatProgress(value=0.0), HTML(value='')))"
      ]
     },
     "metadata": {},
     "output_type": "display_data"
    }
   ],
   "source": [
    "solutions = {engine: simulation.ParticleTracker(forces[engine], x, v, particle).run(1e-1 * u.s, dt = 1e-6 * u.s) for engine in ['njit']}"
   ]
  },
  {
   "cell_type": "code",
   "execution_count": null,
   "metadata": {},
   "outputs": [],
   "source": [
    "solutions['njit']"
   ]
  },
  {
   "cell_type": "code",
   "execution_count": null,
   "metadata": {},
   "outputs": [],
   "source": [
    "solutions['njit'].kinetic_energy.sum(dim='particle').plot.line()"
   ]
  },
  {
   "cell_type": "code",
   "execution_count": null,
   "metadata": {},
   "outputs": [],
   "source": [
    "N_bins = 100\n",
    "N_times = 1000\n",
    "for solution in solutions.values():\n",
    "    density = N / L ** 3\n",
    "\n",
    "    from scipy import spatial\n",
    "\n",
    "    import tqdm.auto as tqdm\n",
    "\n",
    "    all_histograms = []\n",
    "    max_L = L\n",
    "    bins, dx = np.linspace(0, max_L, N_bins, endpoint=True, retstep=True)\n",
    "    our_times = solution.time[np.linspace(0, solution.time.size, N_times, endpoint=False, dtype=int)]\n",
    "    spatial_bins = (bins[1:] + bins[:-1] )/2\n",
    "    for time in tqdm.tqdm(our_times):\n",
    "        pos = solution.position.sel(time=time)\n",
    "        tree = spatial.cKDTree(pos)\n",
    "\n",
    "        histograms = []\n",
    "        for particle in range(N):\n",
    "            distances, indices = tree.query(pos.sel(particle=particle), range(2, N))\n",
    "            hist, final_bins = np.histogram(distances, bins)\n",
    "            rdf = hist / (4 * np.pi * dx * density)\n",
    "            histograms.append(rdf)\n",
    "        all_histograms.append(histograms)\n",
    "\n",
    "\n",
    "    \n",
    "    da = xarray.DataArray(all_histograms,\n",
    "                          dims=('time', 'particle', 'spatial_bins'),\n",
    "                          coords = {'time': our_times, 'spatial_bins': spatial_bins, 'particle': solution.particle})\n",
    "#     solution.coords['spatial_bins'] = spatial_bins\n",
    "\n",
    "#     solution['rdf'] = (('time', 'particle', 'spatial_bins'), np.array(all_histograms))\n",
    "\n",
    "#     solution.rdf.mean(dim='particle').isel(time=-3).plot.line()\n"
   ]
  },
  {
   "cell_type": "code",
   "execution_count": null,
   "metadata": {},
   "outputs": [],
   "source": [
    "solution.particletracker.plot_trajectories()"
   ]
  },
  {
   "cell_type": "code",
   "execution_count": null,
   "metadata": {},
   "outputs": [],
   "source": [
    "import matplotlib.pyplot as plt\n",
    "\n",
    "da.isel(time=range(50, 1000)).mean(dim=['particle', 'time']).plot.line()\n",
    "plt.axvline(eq_distance)"
   ]
  },
  {
   "cell_type": "code",
   "execution_count": null,
   "metadata": {},
   "outputs": [],
   "source": [
    "solution.sel(particle=[30]).particletracker.plot_trajectories()"
   ]
  },
  {
   "cell_type": "code",
   "execution_count": null,
   "metadata": {},
   "outputs": [],
   "source": [
    "solution.sel(particle = [30]).particletracker.plot_time_trajectories()"
   ]
  },
  {
   "cell_type": "code",
   "execution_count": null,
   "metadata": {},
   "outputs": [],
   "source": [
    "da.isel(time=range(900, 1000)).mean(dim=['particle', 'time']).plot.line()"
   ]
  },
  {
   "cell_type": "code",
   "execution_count": null,
   "metadata": {},
   "outputs": [],
   "source": [
    "np.array(all_histograms).shape"
   ]
  },
  {
   "cell_type": "code",
   "execution_count": null,
   "metadata": {},
   "outputs": [],
   "source": [
    "solution.particletracker.plot_trajectories()"
   ]
  },
  {
   "cell_type": "code",
   "execution_count": null,
   "metadata": {},
   "outputs": [],
   "source": [
    "solution.isel(time=range(solution.time.size//10 * 4, solution.time.size // 10 * 10)).particletracker.plot_trajectories()"
   ]
  },
  {
   "cell_type": "code",
   "execution_count": null,
   "metadata": {},
   "outputs": [],
   "source": [
    "solution.particletracker.plot_time_trajectories('x')"
   ]
  },
  {
   "cell_type": "code",
   "execution_count": null,
   "metadata": {},
   "outputs": [],
   "source": [
    "solutions"
   ]
  },
  {
   "cell_type": "code",
   "execution_count": null,
   "metadata": {},
   "outputs": [],
   "source": [
    "solution = solutions['njit']\n",
    "import pyvista\n",
    "fig = pyvista.PlotterITK()\n",
    "for particle in range(N):\n",
    "    solution.particletracker.visualize(fig, particle=particle, stride=10);\n",
    "fig.add_mesh(pyvista.Cube(bounds=(0, L.si.value, 0, L.si.value, 0, L.si.value)), opacity=0.1)\n",
    "fig.show()"
   ]
  }
 ],
 "metadata": {
  "kernelspec": {
   "display_name": "Python 3",
   "language": "python",
   "name": "python3"
  },
  "language_info": {
   "codemirror_mode": {
    "name": "ipython",
    "version": 3
   },
   "file_extension": ".py",
   "mimetype": "text/x-python",
   "name": "python",
   "nbconvert_exporter": "python",
   "pygments_lexer": "ipython3",
   "version": "3.7.6"
  },
  "widgets": {
   "application/vnd.jupyter.widget-state+json": {
    "state": {
     "4761468d5c3f4ab49b72ead9c3224dbe": {
      "model_module": "@jupyter-widgets/controls",
      "model_module_version": "1.5.0",
      "model_name": "ProgressStyleModel",
      "state": {
       "description_width": "initial"
      }
     },
     "505ab24bcd7c40cf9a53f1808c9fcbee": {
      "model_module": "@jupyter-widgets/controls",
      "model_module_version": "1.5.0",
      "model_name": "FloatProgressModel",
      "state": {
       "description": " 10%",
       "layout": "IPY_MODEL_6a362b720662407e9cc52f7d0df9cd67",
       "style": "IPY_MODEL_4761468d5c3f4ab49b72ead9c3224dbe",
       "value": 10
      }
     },
     "52ea7fa7dcd04bfb8a0debd06cc99f5e": {
      "model_module": "@jupyter-widgets/base",
      "model_module_version": "1.2.0",
      "model_name": "LayoutModel",
      "state": {}
     },
     "6a362b720662407e9cc52f7d0df9cd67": {
      "model_module": "@jupyter-widgets/base",
      "model_module_version": "1.2.0",
      "model_name": "LayoutModel",
      "state": {}
     },
     "7bb5fe51daa449d3b10665828ee1af64": {
      "model_module": "@jupyter-widgets/controls",
      "model_module_version": "1.5.0",
      "model_name": "HTMLModel",
      "state": {
       "layout": "IPY_MODEL_52ea7fa7dcd04bfb8a0debd06cc99f5e",
       "style": "IPY_MODEL_8609a074cb8a41d4946c706e72c68337",
       "value": " [00:47&lt;07:02,  4.70s/it, i=1e+4, dt=1e-6, Kinetic energy change=2.85e+4]"
      }
     },
     "7d8a1c13d6354a5a949e20979293bea3": {
      "model_module": "@jupyter-widgets/controls",
      "model_module_version": "1.5.0",
      "model_name": "HBoxModel",
      "state": {
       "children": [
        "IPY_MODEL_505ab24bcd7c40cf9a53f1808c9fcbee",
        "IPY_MODEL_7bb5fe51daa449d3b10665828ee1af64"
       ],
       "layout": "IPY_MODEL_e14f24fdb4274cf2a025007c113e0dfb"
      }
     },
     "8609a074cb8a41d4946c706e72c68337": {
      "model_module": "@jupyter-widgets/controls",
      "model_module_version": "1.5.0",
      "model_name": "DescriptionStyleModel",
      "state": {
       "description_width": ""
      }
     },
     "e14f24fdb4274cf2a025007c113e0dfb": {
      "model_module": "@jupyter-widgets/base",
      "model_module_version": "1.2.0",
      "model_name": "LayoutModel",
      "state": {}
     }
    },
    "version_major": 2,
    "version_minor": 0
   }
  }
 },
 "nbformat": 4,
 "nbformat_minor": 4
}
