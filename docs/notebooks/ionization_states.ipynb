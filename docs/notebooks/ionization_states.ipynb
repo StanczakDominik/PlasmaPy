{
 "cells": [
  {
   "cell_type": "markdown",
   "metadata": {},
   "source": [
    "# Ionization state data structures\n",
    "\n",
    "\n",
    "The ionization state (or charge state) of a plasma refers to the\n",
    "fraction of an element that is at each ionization level.  For example,\n",
    "the ionization state of a pure helium plasma could be 5% He⁰⁺, 94% He¹⁺,\n",
    "and 1% He²⁺.\n",
    "\n",
    "## The ionization state of a single element\n",
    "\n",
    "We may use the `~plasmapy.particles.IonizationState` class\n",
    "to represent the ionization state of a single element, such as for this\n",
    "example."
   ]
  },
  {
   "cell_type": "code",
   "execution_count": null,
   "metadata": {},
   "outputs": [],
   "source": [
    "from plasmapy.particles import IonizationState\n",
    "ionization_state = IonizationState(\"He\", [0.05, 0.94, 0.01])"
   ]
  },
  {
   "cell_type": "markdown",
   "metadata": {},
   "source": [
    "The ionization state for helium may be accessed using the\n",
    "``ionic_fractions`` attribute.  These ionic fractions correspond to the\n",
    "``integer_charges`` attribute."
   ]
  },
  {
   "cell_type": "code",
   "execution_count": null,
   "metadata": {},
   "outputs": [],
   "source": [
    "ionization_state.ionic_fractions"
   ]
  },
  {
   "cell_type": "code",
   "execution_count": null,
   "metadata": {},
   "outputs": [],
   "source": [
    "ionization_state.integer_charges"
   ]
  },
  {
   "cell_type": "markdown",
   "metadata": {},
   "source": [
    "The ``Z_mean`` attribute returns the mean integer charge averaged\n",
    "over all particles in that element."
   ]
  },
  {
   "cell_type": "code",
   "execution_count": null,
   "metadata": {},
   "outputs": [],
   "source": [
    "ionization_state.Z_mean"
   ]
  },
  {
   "cell_type": "markdown",
   "metadata": {},
   "source": [
    "The ``Z_rms`` attribute returns the root mean square integer charge."
   ]
  },
  {
   "cell_type": "code",
   "execution_count": null,
   "metadata": {},
   "outputs": [],
   "source": [
    "ionization_state.Z_rms"
   ]
  },
  {
   "cell_type": "markdown",
   "metadata": {},
   "source": [
    "The ``Z_most_abundant`` attribute returns a `list` of the most abundant\n",
    "ion(s).  The `list` may contain more than one integer charge in case of\n",
    "a tie."
   ]
  },
  {
   "cell_type": "code",
   "execution_count": null,
   "metadata": {},
   "outputs": [],
   "source": [
    "ionization_state.Z_most_abundant"
   ]
  },
  {
   "cell_type": "markdown",
   "metadata": {},
   "source": [
    "The ``info`` method prints out the ionic fraction for the ions with\n",
    "an abundance of at least 1%."
   ]
  },
  {
   "cell_type": "code",
   "execution_count": null,
   "metadata": {},
   "outputs": [],
   "source": [
    "ionization_state.summarize()"
   ]
  },
  {
   "cell_type": "markdown",
   "metadata": {},
   "source": [
    "The number density of the element may be specified through the\n",
    "``n_elem`` keyword argument."
   ]
  },
  {
   "cell_type": "code",
   "execution_count": null,
   "metadata": {},
   "outputs": [],
   "source": [
    "import astropy.units as u\n",
    "ionization_state = IonizationState(\n",
    "     \"He\", [0.05, 0.94, 0.01], n_elem = 1e19 * u.m ** -3,\n",
    ")"
   ]
  },
  {
   "cell_type": "markdown",
   "metadata": {},
   "source": [
    "The ``n_e`` attribute provides the electron number density as a\n",
    "`~astropy.units.Quantity`."
   ]
  },
  {
   "cell_type": "code",
   "execution_count": null,
   "metadata": {},
   "outputs": [],
   "source": [
    "ionization_state.n_e"
   ]
  },
  {
   "cell_type": "markdown",
   "metadata": {},
   "source": [
    "The ``number_densities`` attribute provides the number density of each\n",
    "ion or neutral."
   ]
  },
  {
   "cell_type": "code",
   "execution_count": null,
   "metadata": {},
   "outputs": [],
   "source": [
    "ionization_state.number_densities"
   ]
  },
  {
   "cell_type": "markdown",
   "metadata": {},
   "source": [
    "Ionization states for multiple elements\n",
    "=======================================\n",
    "\n",
    "The `~plasmapy.particles.IonizationStateCollection` class may be used to\n",
    "represent the ionization state for multiple elements."
   ]
  },
  {
   "cell_type": "code",
   "execution_count": null,
   "metadata": {},
   "outputs": [],
   "source": [
    "from plasmapy.particles import IonizationStateCollection"
   ]
  },
  {
   "cell_type": "markdown",
   "metadata": {},
   "source": [
    "The minimal input to `~plasmapy.particles.IonizationStateCollection` is a `list`\n",
    "of the elements or isotopes to represent.  Integers in the `list` will\n",
    "be treated as atomic numbers."
   ]
  },
  {
   "cell_type": "code",
   "execution_count": null,
   "metadata": {},
   "outputs": [],
   "source": [
    "states = IonizationStateCollection([\"H\", 2])"
   ]
  },
  {
   "cell_type": "markdown",
   "metadata": {},
   "source": [
    "To set the ionic fractions for hydrogen, we may do item assignment."
   ]
  },
  {
   "cell_type": "code",
   "execution_count": null,
   "metadata": {},
   "outputs": [],
   "source": [
    "states[\"H\"] = [0.9, 0.1]"
   ]
  },
  {
   "cell_type": "markdown",
   "metadata": {},
   "source": [
    "We may use indexing to retrieve an `~plasmapy.particles.IonizationState`\n",
    "instance for an element."
   ]
  },
  {
   "cell_type": "code",
   "execution_count": null,
   "metadata": {},
   "outputs": [],
   "source": [
    "states[\"H\"]"
   ]
  },
  {
   "cell_type": "markdown",
   "metadata": {},
   "source": [
    "The ionization states for all of the elements may be specified directly\n",
    "as arguments to the class."
   ]
  },
  {
   "cell_type": "code",
   "execution_count": null,
   "metadata": {},
   "outputs": [],
   "source": [
    "states = IonizationStateCollection(\n",
    "    {\"H\": [0.01, 0.99], \"He\": [0.04, 0.95, 0.01]},\n",
    "    abundances={\"H\": 1, \"He\": 0.08},\n",
    "    n = 5e19 * u.m ** -3,\n",
    ")"
   ]
  },
  {
   "cell_type": "markdown",
   "metadata": {},
   "source": [
    "The ionic fractions will be stored as a `dict`."
   ]
  },
  {
   "cell_type": "code",
   "execution_count": null,
   "metadata": {},
   "outputs": [],
   "source": [
    "states.ionic_fractions"
   ]
  },
  {
   "cell_type": "markdown",
   "metadata": {},
   "source": [
    "The number density for each element is the product of the number\n",
    "density scaling factor ``n`` with that element's abundance.\n",
    "The number density for each ion is the product of ``n``, the\n",
    "corresponding element's abundance, and the ionic fraction."
   ]
  },
  {
   "cell_type": "code",
   "execution_count": null,
   "metadata": {},
   "outputs": [],
   "source": [
    "states.n"
   ]
  },
  {
   "cell_type": "code",
   "execution_count": null,
   "metadata": {},
   "outputs": [],
   "source": [
    "states.abundances"
   ]
  },
  {
   "cell_type": "code",
   "execution_count": null,
   "metadata": {},
   "outputs": [],
   "source": [
    "states.number_densities[\"H\"]"
   ]
  },
  {
   "cell_type": "markdown",
   "metadata": {},
   "source": [
    "The ``summarize`` method may also be used to get a summary of the ionization\n",
    "states."
   ]
  },
  {
   "cell_type": "code",
   "execution_count": null,
   "metadata": {},
   "outputs": [],
   "source": [
    "states.summarize()"
   ]
  }
 ],
 "metadata": {
  "kernelspec": {
   "display_name": "Python 3",
   "language": "python",
   "name": "python3"
  },
  "language_info": {
   "codemirror_mode": {
    "name": "ipython",
    "version": 3
   },
   "file_extension": ".py",
   "mimetype": "text/x-python",
   "name": "python",
   "nbconvert_exporter": "python",
   "pygments_lexer": "ipython3",
   "version": "3.8.2"
  },
  "widgets": {
   "application/vnd.jupyter.widget-state+json": {
    "state": {},
    "version_major": 2,
    "version_minor": 0
   }
  }
 },
 "nbformat": 4,
 "nbformat_minor": 4
}
